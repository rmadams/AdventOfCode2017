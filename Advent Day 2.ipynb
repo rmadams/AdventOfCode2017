{
 "cells": [
  {
   "cell_type": "markdown",
   "metadata": {},
   "source": [
    "2a: Checksum Problem:  SOLVED\n",
    "\n",
    "calculate the spreadsheet's checksum. For each row, determine the difference between the largest value and the smallest value; the checksum is the sum of all of these differences.\n",
    "\n",
    "For example, given the following spreadsheet:\n",
    "\n",
    "    5 1 9 5\n",
    "    7 5 3\n",
    "    2 4 6 8\n",
    "\n",
    "    The first row's largest and smallest values are 9 and 1, and their difference is 8.\n",
    "    The second row's largest and smallest values are 7 and 3, and their difference is 4.\n",
    "    The third row's difference is 6.\n",
    "    In this example, the spreadsheet's checksum would be 8 + 4 + 6 = 18.\n",
    "\n"
   ]
  },
  {
   "cell_type": "code",
   "execution_count": 69,
   "metadata": {
    "collapsed": true
   },
   "outputs": [],
   "source": [
    "import itertools"
   ]
  },
  {
   "cell_type": "code",
   "execution_count": 28,
   "metadata": {
    "collapsed": true
   },
   "outputs": [],
   "source": [
    "#test cases:\n",
    "tests = [[[\n",
    "     [5, 1, 9, 5],\n",
    "     [7, 5, 3],\n",
    "     [2, 4, 6, 8]\n",
    "],18]]"
   ]
  },
  {
   "cell_type": "code",
   "execution_count": 43,
   "metadata": {
    "collapsed": true
   },
   "outputs": [],
   "source": [
    "#final case:\n",
    "final_case = [\n",
    "[798,1976,1866,1862,559,1797,1129,747,85,1108,104,2000,248,131,87,95],\n",
    "[201,419,336,65,208,57,74,433,68,360,390,412,355,209,330,135],\n",
    "[967,84,492,1425,1502,1324,1268,1113,1259,81,310,1360,773,69,68,290],\n",
    "[169,264,107,298,38,149,56,126,276,45,305,403,89,179,394,172],\n",
    "[3069,387,2914,2748,1294,1143,3099,152,2867,3082,113,145,2827,2545,134,469],\n",
    "[3885,1098,2638,5806,4655,4787,186,4024,2286,5585,5590,215,5336,2738,218,266],\n",
    "[661,789,393,159,172,355,820,891,196,831,345,784,65,971,396,234],\n",
    "[4095,191,4333,161,3184,193,4830,4153,2070,3759,1207,3222,185,176,2914,4152],\n",
    "[131,298,279,304,118,135,300,74,269,96,366,341,139,159,17,149],\n",
    "[1155,5131,373,136,103,5168,3424,5126,122,5046,4315,126,236,4668,4595,4959],\n",
    "[664,635,588,673,354,656,70,86,211,139,95,40,84,413,618,31],\n",
    "[2163,127,957,2500,2370,2344,2224,1432,125,1984,2392,379,2292,98,456,154],\n",
    "[271,4026,2960,6444,2896,228,819,676,6612,6987,265,2231,2565,6603,207,6236],\n",
    "[91,683,1736,1998,1960,1727,84,1992,1072,1588,1768,74,58,1956,1627,893],\n",
    "[3591,1843,3448,1775,3564,2632,1002,3065,77,3579,78,99,1668,98,2963,3553],\n",
    "[2155,225,2856,3061,105,204,1269,171,2505,2852,977,1377,181,1856,2952,2262]\n",
    "]"
   ]
  },
  {
   "cell_type": "code",
   "execution_count": 46,
   "metadata": {
    "collapsed": true
   },
   "outputs": [],
   "source": [
    "class My_Checksum():\n",
    "    def __init__(self,in_matrix):\n",
    "        '''initialize the object with the input matrix'''\n",
    "        self.in_matrix = in_matrix\n",
    "        self.checkval = 0\n",
    "    def checksum(self):\n",
    "        '''solve the reverse captcha: the sum of all digits that match the next digit in the list'''\n",
    "        self.checkval = 0\n",
    "        for row in self.in_matrix:\n",
    "            self.checkval += (max(row) - min(row))\n",
    "    def test(self,test_cases):\n",
    "        '''run the test set in the form: [[<<string>>,<<result>>],[<<string>>,<<result>>]] '''\n",
    "        for item in test_cases:\n",
    "            self.__init__(item[0])\n",
    "            self.checksum()\n",
    "            print item,\n",
    "            print self.checkval,\n",
    "            if self.checkval == item[1]:\n",
    "                print \"PASSED\"\n",
    "            else:\n",
    "                print \"FAILED\""
   ]
  },
  {
   "cell_type": "code",
   "execution_count": 47,
   "metadata": {
    "collapsed": false
   },
   "outputs": [],
   "source": [
    "foo = My_Checksum(final_case)"
   ]
  },
  {
   "cell_type": "code",
   "execution_count": 32,
   "metadata": {
    "collapsed": false
   },
   "outputs": [
    {
     "name": "stdout",
     "output_type": "stream",
     "text": [
      "[[[5, 1, 9, 5], [7, 5, 3], [2, 4, 6, 8]], 18] 18 PASSED\n"
     ]
    }
   ],
   "source": [
    "foo.test(tests)"
   ]
  },
  {
   "cell_type": "code",
   "execution_count": 48,
   "metadata": {
    "collapsed": false
   },
   "outputs": [],
   "source": [
    "foo.checksum()"
   ]
  },
  {
   "cell_type": "code",
   "execution_count": 49,
   "metadata": {
    "collapsed": false
   },
   "outputs": [
    {
     "data": {
      "text/plain": [
       "41919"
      ]
     },
     "execution_count": 49,
     "metadata": {},
     "output_type": "execute_result"
    }
   ],
   "source": [
    "foo.checkval"
   ]
  },
  {
   "cell_type": "markdown",
   "metadata": {},
   "source": [
    "2b: SOVED \n",
    "\n",
    "find the only two numbers in each row where one evenly divides the other - that is, where the result of the division operation is a whole number. They would like you to find those numbers on each line, divide them, and add up each line's result.\n",
    "\n",
    "For example, given the following spreadsheet:\n",
    "\n",
    "     5 9 2 8\n",
    "     9 4 7 3\n",
    "     3 8 6 5\n",
    "\n",
    "    In the first row, the only two numbers that evenly divide are 8 and 2; the result of this division is 4.\n",
    "    In the second row, the two numbers are 9 and 3; the result is 3.\n",
    "    In the third row, the result is 2.\n",
    "    In this example, the sum of the results would be 4 + 3 + 2 = 9.\n",
    "\n",
    "What is the sum of each row's result in your puzzle input?"
   ]
  },
  {
   "cell_type": "code",
   "execution_count": 71,
   "metadata": {
    "collapsed": false
   },
   "outputs": [],
   "source": [
    "class My_Div_Checksum():\n",
    "    def __init__(self,in_matrix):\n",
    "        '''initialize the object with the input matrix'''\n",
    "        self.in_matrix = in_matrix\n",
    "        self.checkval = 0\n",
    "    def checksum(self):\n",
    "        '''solve the reverse captcha: the sum of all digits that match the next digit in the list'''\n",
    "        self.checkval = 0\n",
    "        for row in self.in_matrix:\n",
    "            for item in list(itertools.combinations(row,2)):\n",
    "                if max(item) % min(item) == 0:\n",
    "                    self.checkval += max(item) / min(item)\n",
    "    def test(self,test_cases):\n",
    "        '''run the test set in the form: [[<<string>>,<<result>>],[<<string>>,<<result>>]] '''\n",
    "        for item in test_cases:\n",
    "            self.__init__(item[0])\n",
    "            self.checksum()\n",
    "            print item,\n",
    "            print self.checkval,\n",
    "            if self.checkval == item[1]:\n",
    "                print \"PASSED\"\n",
    "            else:\n",
    "                print \"FAILED\""
   ]
  },
  {
   "cell_type": "code",
   "execution_count": 73,
   "metadata": {
    "collapsed": true
   },
   "outputs": [],
   "source": [
    "new_test = [[[\n",
    "    [5, 9, 2, 8],\n",
    "    [9, 4, 7, 3],\n",
    "    [3, 8, 6, 5]\n",
    "],9]]"
   ]
  },
  {
   "cell_type": "code",
   "execution_count": 76,
   "metadata": {
    "collapsed": false
   },
   "outputs": [],
   "source": [
    "bar = My_Div_Checksum(final_case)"
   ]
  },
  {
   "cell_type": "code",
   "execution_count": 77,
   "metadata": {
    "collapsed": false
   },
   "outputs": [
    {
     "data": {
      "text/plain": [
       "303"
      ]
     },
     "execution_count": 77,
     "metadata": {},
     "output_type": "execute_result"
    }
   ],
   "source": [
    "bar.checksum()\n",
    "bar.checkval"
   ]
  },
  {
   "cell_type": "code",
   "execution_count": 75,
   "metadata": {
    "collapsed": false
   },
   "outputs": [
    {
     "name": "stdout",
     "output_type": "stream",
     "text": [
      "[[[5, 9, 2, 8], [9, 4, 7, 3], [3, 8, 6, 5]], 9] 9 PASSED\n"
     ]
    }
   ],
   "source": [
    "bar.test(new_test)"
   ]
  },
  {
   "cell_type": "raw",
   "metadata": {},
   "source": [
    "bar"
   ]
  },
  {
   "cell_type": "code",
   "execution_count": null,
   "metadata": {
    "collapsed": true
   },
   "outputs": [],
   "source": []
  },
  {
   "cell_type": "code",
   "execution_count": null,
   "metadata": {
    "collapsed": true
   },
   "outputs": [],
   "source": []
  }
 ],
 "metadata": {
  "kernelspec": {
   "display_name": "Python 2",
   "language": "python",
   "name": "python2"
  },
  "language_info": {
   "codemirror_mode": {
    "name": "ipython",
    "version": 2
   },
   "file_extension": ".py",
   "mimetype": "text/x-python",
   "name": "python",
   "nbconvert_exporter": "python",
   "pygments_lexer": "ipython2",
   "version": "2.7.11"
  }
 },
 "nbformat": 4,
 "nbformat_minor": 0
}
