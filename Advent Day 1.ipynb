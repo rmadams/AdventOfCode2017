{
 "cells": [
  {
   "cell_type": "markdown",
   "metadata": {},
   "source": [
    "1a: Reverse Captch Problem: SOLVED \n",
    "\n",
    "The captcha requires you to review a sequence of digits (your puzzle input) and find the sum of all digits that match the next digit in the list. The list is circular, so the digit after the last digit is the first digit in the list.\n",
    "\n",
    "For example:\n",
    "\n",
    "    1122 produces a sum of 3 (1 + 2) because the first digit (1) matches the second digit and the third digit (2) matches the fourth digit.\n",
    "    1111 produces 4 because each digit (all 1) matches the next.\n",
    "    1234 produces 0 because no digit matches the next.\n",
    "    91212129 produces 9 because the only digit that matches the next one is the last digit, 9."
   ]
  },
  {
   "cell_type": "code",
   "execution_count": 2,
   "metadata": {
    "collapsed": true
   },
   "outputs": [],
   "source": [
    "#test cases:\n",
    "tests = [['1122',3],['1111',4],['1234',0],['91212129',9]]"
   ]
  },
  {
   "cell_type": "code",
   "execution_count": 3,
   "metadata": {
    "collapsed": true
   },
   "outputs": [],
   "source": [
    "#final case:\n",
    "final_case = '3893445835429722678558456317563893861752455542588369533636585887178232467588827193173595918648538852463974393264428538856739259399322741844613957229674619566966921656443476317729968764183945899765294481327998956154956571467872487576314549468261122281384513266834769436913544431258253346374641589492728885222652146158261225296144835682556133922436438188211288458692217737145834468534829945993366314375465767468939773939978272968388546791547526366348163672162245585168892858977723516752284597322176349412485116173844733679871253985762643852151748396593275274582481295864991886985988427966155944392352248314629138972358467959614279553511247863869663526823326467571462371663396188951696286916979923587358992127741723727623235238531991996999181976664226274715591531566495345212849683589582225465555847312199122268773923175183128124556249916458878785361322713513153175157855597289482439449732469754748544437553251412476225415932478849961897299721228198262823515159848941742786272262236888514421279147329383465929358896761449135917829473321834267122759371247338155787774952626616791265889922959653887288735233291968146648533754958199821789499914763279869931218136266492627818972334549751282191883558361871277375851259751294611921756927694394977764633932938573132221389861617195291742156362494769521829599476753198422283287735888197584327719697758442462886311961723849326959213928195182293316227334998926839139915138472514686689887874559367524254175582135318545912361877139367538434683933333264146289842238921989275112323681356256979576948644489986951538689949884787173194457523474156229389465725473817651516136514446513436419126533875125645855223921197481833434658264655912731133356464193251635637423222227273192628825165993827511625956856754776849919858414375874943572889154281862749595896438581889424559988914658387293414662361364793844213298677236787998677166743945812899526292132465751582925131262933636228593134861363493849168168765261647652342891576445292462341171477487223253795935253493869317616741963486473'"
   ]
  },
  {
   "cell_type": "code",
   "execution_count": 28,
   "metadata": {
    "collapsed": true
   },
   "outputs": [],
   "source": [
    "#dub tests\n",
    "#   1212 produces 6: the list contains 4 items, and all four digits match the digit 2 items ahead.\n",
    "#   1221 produces 0, because every comparison is between a 1 and a 2.\n",
    "#  123425 produces 4, because both 2s match each other, but no other digit has a match.\n",
    "#    123123 produces 12.\n",
    "#    12131415 produces 4.\n",
    "\n",
    "dub_tests = [['1212',6],['1221',0],['123425',4],['123123',12],['12131415',4]]"
   ]
  },
  {
   "cell_type": "code",
   "execution_count": 20,
   "metadata": {
    "collapsed": true
   },
   "outputs": [],
   "source": [
    "class reverse_captcha():\n",
    "    def __init__(self,in_string):\n",
    "        '''initialize the object with the input string'''\n",
    "        self.captcha = in_string\n",
    "        self.cap_len = len(in_string)\n",
    "        self.cap_sum = 0\n",
    "        self.dub_sum = 0\n",
    "    def solve(self):\n",
    "        '''solve the reverse captcha: the sum of all digits that match the next digit in the list'''\n",
    "        self.cap_sum = 0\n",
    "        for loc in range(self.cap_len):\n",
    "            if self.captcha[loc % self.cap_len] == self.captcha[(loc+1) % self.cap_len]:\n",
    "                self.cap_sum += int(self.captcha[loc % self.cap_len])\n",
    "    def dub_solve(self):\n",
    "        '''solve the double-reverse captcha: only include a digit \n",
    "            in your sum if the digit 10/2 = 5 steps forward matches it'''\n",
    "        self.dub_sum = 0\n",
    "        for loc in range(self.cap_len):\n",
    "            if self.captcha[loc % self.cap_len] == self.captcha[(loc+(self.cap_len/2)) % self.cap_len]:\n",
    "                self.cap_sum += int(self.captcha[loc % self.cap_len])\n",
    "    def test(self,test_cases):\n",
    "        '''run the test set in the form: [[<<string>>,<<result>>],[<<string>>,<<result>>]] '''\n",
    "        for item in test_cases:\n",
    "            self.__init__(item[0])\n",
    "            self.solve()\n",
    "            print item,\n",
    "            print self.cap_sum,\n",
    "            if self.cap_sum == item[1]:\n",
    "                print \"PASSED\"\n",
    "            else:\n",
    "                print \"FAILED\"\n",
    "    def dub_test(self,test_cases):\n",
    "        '''run the test set in the form: [[<<string>>,<<result>>],[<<string>>,<<result>>]] '''\n",
    "        for item in test_cases:\n",
    "            self.__init__(item[0])\n",
    "            self.dub_solve()\n",
    "            print item,\n",
    "            print self.cap_sum,\n",
    "            if self.cap_sum == item[1]:\n",
    "                print \"PASSED\"\n",
    "            else:\n",
    "                print \"FAILED\"\n",
    "            \n",
    "        "
   ]
  },
  {
   "cell_type": "code",
   "execution_count": 24,
   "metadata": {
    "collapsed": false
   },
   "outputs": [],
   "source": [
    "foo = reverse_captcha(final_case)"
   ]
  },
  {
   "cell_type": "code",
   "execution_count": 25,
   "metadata": {
    "collapsed": false
   },
   "outputs": [
    {
     "name": "stdout",
     "output_type": "stream",
     "text": [
      "['1122', 3] 3 PASSED\n",
      "['1111', 4] 4 PASSED\n",
      "['1234', 0] 0 PASSED\n",
      "['91212129', 9] 9 PASSED\n"
     ]
    }
   ],
   "source": [
    "foo.test(tests)"
   ]
  },
  {
   "cell_type": "code",
   "execution_count": 26,
   "metadata": {
    "collapsed": false
   },
   "outputs": [
    {
     "data": {
      "text/plain": [
       "1177"
      ]
     },
     "execution_count": 26,
     "metadata": {},
     "output_type": "execute_result"
    }
   ],
   "source": [
    "foo = reverse_captcha(final_case)\n",
    "foo.solve()\n",
    "foo.cap_sum"
   ]
  },
  {
   "cell_type": "markdown",
   "metadata": {},
   "source": [
    "1b: SOLVED\n",
    "\n",
    "Now, instead of considering the next digit, it wants you to consider the digit halfway around the circular list. That is, if your list contains 10 items, only include a digit in your sum if the digit 10/2 = 5 steps forward matches it. Fortunately, your list has an even number of elements.\n",
    "\n",
    "For example:\n",
    "\n",
    "    1212 produces 6: the list contains 4 items, and all four digits match the digit 2 items ahead.\n",
    "    1221 produces 0, because every comparison is between a 1 and a 2.\n",
    "    123425 produces 4, because both 2s match each other, but no other digit has a match.\n",
    "    123123 produces 12.\n",
    "    12131415 produces 4."
   ]
  },
  {
   "cell_type": "code",
   "execution_count": 29,
   "metadata": {
    "collapsed": false
   },
   "outputs": [
    {
     "name": "stdout",
     "output_type": "stream",
     "text": [
      "['1212', 6] 6 PASSED\n",
      "['1221', 0] 0 PASSED\n",
      "['123425', 4] 4 PASSED\n",
      "['123123', 12] 12 PASSED\n",
      "['12131415', 4] 4 PASSED\n"
     ]
    }
   ],
   "source": [
    "foo.dub_test(dub_tests)"
   ]
  },
  {
   "cell_type": "code",
   "execution_count": 31,
   "metadata": {
    "collapsed": false
   },
   "outputs": [
    {
     "data": {
      "text/plain": [
       "1060"
      ]
     },
     "execution_count": 31,
     "metadata": {},
     "output_type": "execute_result"
    }
   ],
   "source": [
    "foo = reverse_captcha(final_case)\n",
    "foo.dub_solve()\n",
    "foo.cap_sum"
   ]
  },
  {
   "cell_type": "code",
   "execution_count": null,
   "metadata": {
    "collapsed": true
   },
   "outputs": [],
   "source": []
  }
 ],
 "metadata": {
  "kernelspec": {
   "display_name": "Python 2",
   "language": "python",
   "name": "python2"
  },
  "language_info": {
   "codemirror_mode": {
    "name": "ipython",
    "version": 2
   },
   "file_extension": ".py",
   "mimetype": "text/x-python",
   "name": "python",
   "nbconvert_exporter": "python",
   "pygments_lexer": "ipython2",
   "version": "2.7.11"
  }
 },
 "nbformat": 4,
 "nbformat_minor": 0
}
