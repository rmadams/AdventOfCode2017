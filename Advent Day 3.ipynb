{
 "cells": [
  {
   "cell_type": "markdown",
   "metadata": {},
   "source": [
    "3a: Spiral Data:  \n",
    "\n",
    "Each square on the grid is allocated in a spiral pattern starting at a location marked 1 and then counting up while spiraling outward. For example, the first few squares are allocated like this:\n",
    "\n",
    "    17  16  15  14  13\n",
    "    18   5   4   3  12\n",
    "    19   6   1   2  11\n",
    "    20   7   8   9  10\n",
    "    21  22  23---> ...\n",
    "\n",
    "While this is very space-efficient (no squares are skipped), requested data must be carried back to square 1 (the location of the only access port for this memory system) by programs that can only move up, down, left, or right. They always take the shortest path: the Manhattan Distance between the location of the data and square 1.\n",
    "\n",
    "For example:\n",
    "\n",
    "    Data from square 1 is carried 0 steps, since it's at the access port.\n",
    "    Data from square 12 is carried 3 steps, such as: down, left, left.\n",
    "    Data from square 23 is carried only 2 steps: up twice.\n",
    "    Data from square 1024 must be carried 31 steps.\n",
    "\n",
    "How many steps are required to carry the data from the square identified in your puzzle input all the way to the access port?\n",
    "\n",
    "\n"
   ]
  },
  {
   "cell_type": "raw",
   "metadata": {},
   "source": [
    "(x+0,y+0),(x+1,y+0),(x+0,y+1),(x-1,y-0),(x-1,y-0),(x-0,y-1),(x-0,y-1),(x+1,y+0),(x+1,y+0),(x+1,y+0),(x+0,y+1),(x+0,y+1),(x+0,y+1),..."
   ]
  },
  {
   "cell_type": "code",
   "execution_count": 3,
   "metadata": {
    "collapsed": true
   },
   "outputs": [],
   "source": [
    "import scipy"
   ]
  },
  {
   "cell_type": "code",
   "execution_count": 4,
   "metadata": {
    "collapsed": false
   },
   "outputs": [
    {
     "ename": "AttributeError",
     "evalue": "'module' object has no attribute 'spatial'",
     "output_type": "error",
     "traceback": [
      "\u001b[0;31m---------------------------------------------------------------------------\u001b[0m",
      "\u001b[0;31mAttributeError\u001b[0m                            Traceback (most recent call last)",
      "\u001b[0;32m<ipython-input-4-3e996e5e7ed7>\u001b[0m in \u001b[0;36m<module>\u001b[0;34m()\u001b[0m\n\u001b[0;32m----> 1\u001b[0;31m \u001b[0mscipy\u001b[0m\u001b[0;34m.\u001b[0m\u001b[0mspatial\u001b[0m\u001b[0;34m.\u001b[0m\u001b[0mdistance\u001b[0m\u001b[0;34m.\u001b[0m\u001b[0mcityblock\u001b[0m\u001b[0;34m(\u001b[0m\u001b[0;34m[\u001b[0m\u001b[0;36m0\u001b[0m\u001b[0;34m,\u001b[0m\u001b[0;36m0\u001b[0m\u001b[0;34m,\u001b[0m\u001b[0;34m[\u001b[0m\u001b[0;36m1\u001b[0m\u001b[0;34m,\u001b[0m\u001b[0;36m1\u001b[0m\u001b[0;34m]\u001b[0m\u001b[0;34m]\u001b[0m\u001b[0;34m)\u001b[0m\u001b[0;34m\u001b[0m\u001b[0m\n\u001b[0m",
      "\u001b[0;31mAttributeError\u001b[0m: 'module' object has no attribute 'spatial'"
     ]
    }
   ],
   "source": [
    "scipy.spatial.distance.cityblock([0,0,[1,1]])"
   ]
  },
  {
   "cell_type": "code",
   "execution_count": 2,
   "metadata": {
    "collapsed": false
   },
   "outputs": [
    {
     "ename": "TypeError",
     "evalue": "unsupported operand type(s) for //: 'list' and 'int'",
     "output_type": "error",
     "traceback": [
      "\u001b[0;31m---------------------------------------------------------------------------\u001b[0m",
      "\u001b[0;31mTypeError\u001b[0m                                 Traceback (most recent call last)",
      "\u001b[0;32m<ipython-input-2-daaf642f9739>\u001b[0m in \u001b[0;36m<module>\u001b[0;34m()\u001b[0m\n\u001b[0;32m----> 1\u001b[0;31m \u001b[0mmhd\u001b[0m\u001b[0;34m(\u001b[0m\u001b[0;34m[\u001b[0m\u001b[0;36m1\u001b[0m\u001b[0;34m,\u001b[0m\u001b[0;36m1\u001b[0m\u001b[0;34m]\u001b[0m\u001b[0;34m,\u001b[0m\u001b[0;34m[\u001b[0m\u001b[0;36m0\u001b[0m\u001b[0;34m,\u001b[0m\u001b[0;36m0\u001b[0m\u001b[0;34m]\u001b[0m\u001b[0;34m)\u001b[0m\u001b[0;34m\u001b[0m\u001b[0m\n\u001b[0m",
      "\u001b[0;32m<ipython-input-1-1c5fc076d3b8>\u001b[0m in \u001b[0;36mmhd\u001b[0;34m(s, g)\u001b[0m\n\u001b[1;32m      1\u001b[0m \u001b[0;32mdef\u001b[0m \u001b[0mmhd\u001b[0m\u001b[0;34m(\u001b[0m\u001b[0ms\u001b[0m\u001b[0;34m,\u001b[0m \u001b[0mg\u001b[0m\u001b[0;34m)\u001b[0m\u001b[0;34m:\u001b[0m\u001b[0;34m\u001b[0m\u001b[0m\n\u001b[0;32m----> 2\u001b[0;31m     \u001b[0mm\u001b[0m \u001b[0;34m=\u001b[0m \u001b[0mabs\u001b[0m\u001b[0;34m(\u001b[0m\u001b[0ms\u001b[0m \u001b[0;34m//\u001b[0m \u001b[0;36m3\u001b[0m \u001b[0;34m-\u001b[0m \u001b[0mg\u001b[0m \u001b[0;34m//\u001b[0m \u001b[0;36m3\u001b[0m\u001b[0;34m)\u001b[0m \u001b[0;34m+\u001b[0m \u001b[0mabs\u001b[0m\u001b[0;34m(\u001b[0m\u001b[0ms\u001b[0m \u001b[0;34m%\u001b[0m \u001b[0;36m3\u001b[0m \u001b[0;34m-\u001b[0m \u001b[0mg\u001b[0m \u001b[0;34m%\u001b[0m \u001b[0;36m3\u001b[0m\u001b[0;34m)\u001b[0m\u001b[0;34m\u001b[0m\u001b[0m\n\u001b[0m\u001b[1;32m      3\u001b[0m     \u001b[0;32mreturn\u001b[0m \u001b[0msum\u001b[0m\u001b[0;34m(\u001b[0m\u001b[0mm\u001b[0m\u001b[0;34m[\u001b[0m\u001b[0;36m1\u001b[0m\u001b[0;34m:\u001b[0m\u001b[0;34m]\u001b[0m\u001b[0;34m)\u001b[0m\u001b[0;34m\u001b[0m\u001b[0m\n",
      "\u001b[0;31mTypeError\u001b[0m: unsupported operand type(s) for //: 'list' and 'int'"
     ]
    }
   ],
   "source": []
  },
  {
   "cell_type": "code",
   "execution_count": 28,
   "metadata": {
    "collapsed": true
   },
   "outputs": [],
   "source": [
    "#test cases:\n",
    "tests = [\n",
    "    [1,0],[12,3],[23,2],[1024,31]\n",
    "]"
   ]
  },
  {
   "cell_type": "code",
   "execution_count": 43,
   "metadata": {
    "collapsed": true
   },
   "outputs": [],
   "source": [
    "#final case:\n",
    "final_case = 277678"
   ]
  },
  {
   "cell_type": "code",
   "execution_count": 46,
   "metadata": {
    "collapsed": true
   },
   "outputs": [],
   "source": [
    "class My_Spiral():\n",
    "    def __init__(self,in_loc):\n",
    "        '''initialize the object with the input '''\n",
    "        self.in_loc = in_loc\n",
    "        self.dist = 0\n",
    "    def spiral(self):\n",
    "        '''calculate the manhattan distance from the value to the origin'''\n",
    "        self.checkval = 0\n",
    "        for row in self.in_matrix:\n",
    "            self.checkval += (max(row) - min(row))\n",
    "    def test(self,test_cases):\n",
    "        '''run the test set in the form: [[<<string>>,<<result>>],[<<string>>,<<result>>]] '''\n",
    "        for item in test_cases:\n",
    "            self.__init__(item[0])\n",
    "            self.checksum()\n",
    "            print item,\n",
    "            print self.checkval,\n",
    "            if self.checkval == item[1]:\n",
    "                print \"PASSED\"\n",
    "            else:\n",
    "                print \"FAILED\""
   ]
  },
  {
   "cell_type": "code",
   "execution_count": 47,
   "metadata": {
    "collapsed": false
   },
   "outputs": [],
   "source": [
    "foo = My_Checksum(final_case)"
   ]
  },
  {
   "cell_type": "code",
   "execution_count": 32,
   "metadata": {
    "collapsed": false
   },
   "outputs": [
    {
     "name": "stdout",
     "output_type": "stream",
     "text": [
      "[[[5, 1, 9, 5], [7, 5, 3], [2, 4, 6, 8]], 18] 18 PASSED\n"
     ]
    }
   ],
   "source": [
    "foo.test(tests)"
   ]
  },
  {
   "cell_type": "code",
   "execution_count": 48,
   "metadata": {
    "collapsed": false
   },
   "outputs": [],
   "source": [
    "foo.checksum()"
   ]
  },
  {
   "cell_type": "code",
   "execution_count": 49,
   "metadata": {
    "collapsed": false
   },
   "outputs": [
    {
     "data": {
      "text/plain": [
       "41919"
      ]
     },
     "execution_count": 49,
     "metadata": {},
     "output_type": "execute_result"
    }
   ],
   "source": [
    "foo.checkval"
   ]
  },
  {
   "cell_type": "markdown",
   "metadata": {},
   "source": [
    "2b: SOVED \n",
    "\n",
    "find the only two numbers in each row where one evenly divides the other - that is, where the result of the division operation is a whole number. They would like you to find those numbers on each line, divide them, and add up each line's result.\n",
    "\n",
    "For example, given the following spreadsheet:\n",
    "\n",
    "     5 9 2 8\n",
    "     9 4 7 3\n",
    "     3 8 6 5\n",
    "\n",
    "    In the first row, the only two numbers that evenly divide are 8 and 2; the result of this division is 4.\n",
    "    In the second row, the two numbers are 9 and 3; the result is 3.\n",
    "    In the third row, the result is 2.\n",
    "    In this example, the sum of the results would be 4 + 3 + 2 = 9.\n",
    "\n",
    "What is the sum of each row's result in your puzzle input?"
   ]
  },
  {
   "cell_type": "code",
   "execution_count": 71,
   "metadata": {
    "collapsed": false
   },
   "outputs": [],
   "source": [
    "class My_Div_Checksum():\n",
    "    def __init__(self,in_matrix):\n",
    "        '''initialize the object with the input matrix'''\n",
    "        self.in_matrix = in_matrix\n",
    "        self.checkval = 0\n",
    "    def checksum(self):\n",
    "        '''solve the reverse captcha: the sum of all digits that match the next digit in the list'''\n",
    "        self.checkval = 0\n",
    "        for row in self.in_matrix:\n",
    "            for item in list(itertools.combinations(row,2)):\n",
    "                if max(item) % min(item) == 0:\n",
    "                    self.checkval += max(item) / min(item)\n",
    "    def test(self,test_cases):\n",
    "        '''run the test set in the form: [[<<string>>,<<result>>],[<<string>>,<<result>>]] '''\n",
    "        for item in test_cases:\n",
    "            self.__init__(item[0])\n",
    "            self.checksum()\n",
    "            print item,\n",
    "            print self.checkval,\n",
    "            if self.checkval == item[1]:\n",
    "                print \"PASSED\"\n",
    "            else:\n",
    "                print \"FAILED\""
   ]
  },
  {
   "cell_type": "code",
   "execution_count": 73,
   "metadata": {
    "collapsed": true
   },
   "outputs": [],
   "source": [
    "new_test = [[[\n",
    "    [5, 9, 2, 8],\n",
    "    [9, 4, 7, 3],\n",
    "    [3, 8, 6, 5]\n",
    "],9]]"
   ]
  },
  {
   "cell_type": "code",
   "execution_count": 76,
   "metadata": {
    "collapsed": false
   },
   "outputs": [],
   "source": [
    "bar = My_Div_Checksum(final_case)"
   ]
  },
  {
   "cell_type": "code",
   "execution_count": 77,
   "metadata": {
    "collapsed": false
   },
   "outputs": [
    {
     "data": {
      "text/plain": [
       "303"
      ]
     },
     "execution_count": 77,
     "metadata": {},
     "output_type": "execute_result"
    }
   ],
   "source": [
    "bar.checksum()\n",
    "bar.checkval"
   ]
  },
  {
   "cell_type": "code",
   "execution_count": 75,
   "metadata": {
    "collapsed": false
   },
   "outputs": [
    {
     "name": "stdout",
     "output_type": "stream",
     "text": [
      "[[[5, 9, 2, 8], [9, 4, 7, 3], [3, 8, 6, 5]], 9] 9 PASSED\n"
     ]
    }
   ],
   "source": [
    "bar.test(new_test)"
   ]
  },
  {
   "cell_type": "raw",
   "metadata": {},
   "source": [
    "bar"
   ]
  },
  {
   "cell_type": "code",
   "execution_count": null,
   "metadata": {
    "collapsed": true
   },
   "outputs": [],
   "source": []
  },
  {
   "cell_type": "code",
   "execution_count": null,
   "metadata": {
    "collapsed": true
   },
   "outputs": [],
   "source": []
  }
 ],
 "metadata": {
  "kernelspec": {
   "display_name": "Python 2",
   "language": "python",
   "name": "python2"
  },
  "language_info": {
   "codemirror_mode": {
    "name": "ipython",
    "version": 2
   },
   "file_extension": ".py",
   "mimetype": "text/x-python",
   "name": "python",
   "nbconvert_exporter": "python",
   "pygments_lexer": "ipython2",
   "version": "2.7.11"
  }
 },
 "nbformat": 4,
 "nbformat_minor": 0
}
